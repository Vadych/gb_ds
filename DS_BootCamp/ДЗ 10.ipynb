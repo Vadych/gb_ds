{
  "cells": [
    {
      "cell_type": "markdown",
      "id": "rubber-sport",
      "metadata": {
        "id": "rubber-sport"
      },
      "source": [
        "### Pandas\n",
        "\n",
        "Для некоторых заданий, возможно, придется обратиться к документации: https://pandas.pydata.org/docs/\n",
        "\n",
        "* Скачайте любой табличный датасет (или создайте тестовый пример самостоятельно), например, с https://www.kaggle.com/datasets\n",
        "\n",
        "*  Загрузите данные и проанализируйте их (используя функции .info и .describe)\n",
        "*  Выведите отдельно интересующую вас колонку и столбец"
      ]
    },
    {
      "cell_type": "code",
      "execution_count": 2,
      "id": "AglPWUtnLgbC",
      "metadata": {
        "colab": {
          "base_uri": "https://localhost:8080/",
          "height": 215
        },
        "id": "AglPWUtnLgbC",
        "outputId": "d425ff87-8433-40ad-e08a-f4015518c604"
      },
      "outputs": [
        {
          "data": {
            "text/html": [
              "<div>\n",
              "<style scoped>\n",
              "    .dataframe tbody tr th:only-of-type {\n",
              "        vertical-align: middle;\n",
              "    }\n",
              "\n",
              "    .dataframe tbody tr th {\n",
              "        vertical-align: top;\n",
              "    }\n",
              "\n",
              "    .dataframe thead th {\n",
              "        text-align: right;\n",
              "    }\n",
              "</style>\n",
              "<table border=\"1\" class=\"dataframe\">\n",
              "  <thead>\n",
              "    <tr style=\"text-align: right;\">\n",
              "      <th></th>\n",
              "      <th>Date</th>\n",
              "      <th>Open</th>\n",
              "      <th>High</th>\n",
              "      <th>Low</th>\n",
              "      <th>Close</th>\n",
              "      <th>Adj Close</th>\n",
              "      <th>Volume</th>\n",
              "      <th>Company</th>\n",
              "    </tr>\n",
              "  </thead>\n",
              "  <tbody>\n",
              "    <tr>\n",
              "      <th>0</th>\n",
              "      <td>07-08-2017</td>\n",
              "      <td>46.452999</td>\n",
              "      <td>46.584999</td>\n",
              "      <td>46.325001</td>\n",
              "      <td>46.467999</td>\n",
              "      <td>46.467999</td>\n",
              "      <td>20644000</td>\n",
              "      <td>GOOGL</td>\n",
              "    </tr>\n",
              "    <tr>\n",
              "      <th>1</th>\n",
              "      <td>08-08-2017</td>\n",
              "      <td>46.354500</td>\n",
              "      <td>46.790699</td>\n",
              "      <td>46.280499</td>\n",
              "      <td>46.339500</td>\n",
              "      <td>46.339500</td>\n",
              "      <td>21232000</td>\n",
              "      <td>GOOGL</td>\n",
              "    </tr>\n",
              "    <tr>\n",
              "      <th>2</th>\n",
              "      <td>09-08-2017</td>\n",
              "      <td>46.030499</td>\n",
              "      <td>46.299000</td>\n",
              "      <td>45.862499</td>\n",
              "      <td>46.145000</td>\n",
              "      <td>46.145000</td>\n",
              "      <td>23842000</td>\n",
              "      <td>GOOGL</td>\n",
              "    </tr>\n",
              "    <tr>\n",
              "      <th>3</th>\n",
              "      <td>10-08-2017</td>\n",
              "      <td>45.877499</td>\n",
              "      <td>45.963001</td>\n",
              "      <td>45.306499</td>\n",
              "      <td>45.362000</td>\n",
              "      <td>45.362000</td>\n",
              "      <td>36480000</td>\n",
              "      <td>GOOGL</td>\n",
              "    </tr>\n",
              "    <tr>\n",
              "      <th>4</th>\n",
              "      <td>11-08-2017</td>\n",
              "      <td>45.398499</td>\n",
              "      <td>45.889000</td>\n",
              "      <td>45.278999</td>\n",
              "      <td>45.719501</td>\n",
              "      <td>45.719501</td>\n",
              "      <td>24136000</td>\n",
              "      <td>GOOGL</td>\n",
              "    </tr>\n",
              "  </tbody>\n",
              "</table>\n",
              "</div>"
            ],
            "text/plain": [
              "         Date       Open       High        Low      Close  Adj Close  \\\n",
              "0  07-08-2017  46.452999  46.584999  46.325001  46.467999  46.467999   \n",
              "1  08-08-2017  46.354500  46.790699  46.280499  46.339500  46.339500   \n",
              "2  09-08-2017  46.030499  46.299000  45.862499  46.145000  46.145000   \n",
              "3  10-08-2017  45.877499  45.963001  45.306499  45.362000  45.362000   \n",
              "4  11-08-2017  45.398499  45.889000  45.278999  45.719501  45.719501   \n",
              "\n",
              "     Volume Company  \n",
              "0  20644000   GOOGL  \n",
              "1  21232000   GOOGL  \n",
              "2  23842000   GOOGL  \n",
              "3  36480000   GOOGL  \n",
              "4  24136000   GOOGL  "
            ]
          },
          "execution_count": 2,
          "metadata": {},
          "output_type": "execute_result"
        }
      ],
      "source": [
        "import pandas as pd\n",
        "\n",
        "g_stock = pd.read_csv('GOOGL.csv')\n",
        "g_stock.head()\n"
      ]
    },
    {
      "cell_type": "code",
      "execution_count": 3,
      "id": "heNoVihNMxLV",
      "metadata": {
        "colab": {
          "base_uri": "https://localhost:8080/"
        },
        "id": "heNoVihNMxLV",
        "outputId": "0e31e88c-76f3-4b26-9b18-a3bf0ccad02f"
      },
      "outputs": [
        {
          "name": "stdout",
          "output_type": "stream",
          "text": [
            "<class 'pandas.core.frame.DataFrame'>\n",
            "RangeIndex: 1258 entries, 0 to 1257\n",
            "Data columns (total 8 columns):\n",
            " #   Column     Non-Null Count  Dtype  \n",
            "---  ------     --------------  -----  \n",
            " 0   Date       1258 non-null   object \n",
            " 1   Open       1258 non-null   float64\n",
            " 2   High       1258 non-null   float64\n",
            " 3   Low        1258 non-null   float64\n",
            " 4   Close      1258 non-null   float64\n",
            " 5   Adj Close  1258 non-null   float64\n",
            " 6   Volume     1258 non-null   int64  \n",
            " 7   Company    1258 non-null   object \n",
            "dtypes: float64(5), int64(1), object(2)\n",
            "memory usage: 78.8+ KB\n"
          ]
        }
      ],
      "source": [
        "g_stock.info()"
      ]
    },
    {
      "cell_type": "code",
      "execution_count": 4,
      "id": "adoaIpbGM3TL",
      "metadata": {
        "colab": {
          "base_uri": "https://localhost:8080/",
          "height": 297
        },
        "id": "adoaIpbGM3TL",
        "outputId": "88225fff-edb3-4b01-c462-467c2c5dc0f7"
      },
      "outputs": [
        {
          "data": {
            "text/html": [
              "<div>\n",
              "<style scoped>\n",
              "    .dataframe tbody tr th:only-of-type {\n",
              "        vertical-align: middle;\n",
              "    }\n",
              "\n",
              "    .dataframe tbody tr th {\n",
              "        vertical-align: top;\n",
              "    }\n",
              "\n",
              "    .dataframe thead th {\n",
              "        text-align: right;\n",
              "    }\n",
              "</style>\n",
              "<table border=\"1\" class=\"dataframe\">\n",
              "  <thead>\n",
              "    <tr style=\"text-align: right;\">\n",
              "      <th></th>\n",
              "      <th>Open</th>\n",
              "      <th>High</th>\n",
              "      <th>Low</th>\n",
              "      <th>Close</th>\n",
              "      <th>Adj Close</th>\n",
              "      <th>Volume</th>\n",
              "    </tr>\n",
              "  </thead>\n",
              "  <tbody>\n",
              "    <tr>\n",
              "      <th>count</th>\n",
              "      <td>1258.000000</td>\n",
              "      <td>1258.000000</td>\n",
              "      <td>1258.000000</td>\n",
              "      <td>1258.000000</td>\n",
              "      <td>1258.000000</td>\n",
              "      <td>1.258000e+03</td>\n",
              "    </tr>\n",
              "    <tr>\n",
              "      <th>mean</th>\n",
              "      <td>81.688143</td>\n",
              "      <td>82.576140</td>\n",
              "      <td>80.849910</td>\n",
              "      <td>81.733603</td>\n",
              "      <td>81.733603</td>\n",
              "      <td>3.110214e+07</td>\n",
              "    </tr>\n",
              "    <tr>\n",
              "      <th>std</th>\n",
              "      <td>32.324641</td>\n",
              "      <td>32.652895</td>\n",
              "      <td>31.958103</td>\n",
              "      <td>32.296453</td>\n",
              "      <td>32.296453</td>\n",
              "      <td>1.353377e+07</td>\n",
              "    </tr>\n",
              "    <tr>\n",
              "      <th>min</th>\n",
              "      <td>45.255001</td>\n",
              "      <td>45.650002</td>\n",
              "      <td>45.169998</td>\n",
              "      <td>45.333000</td>\n",
              "      <td>45.333000</td>\n",
              "      <td>6.936000e+06</td>\n",
              "    </tr>\n",
              "    <tr>\n",
              "      <th>25%</th>\n",
              "      <td>56.017125</td>\n",
              "      <td>56.585575</td>\n",
              "      <td>55.414249</td>\n",
              "      <td>55.998998</td>\n",
              "      <td>55.998998</td>\n",
              "      <td>2.267900e+07</td>\n",
              "    </tr>\n",
              "    <tr>\n",
              "      <th>50%</th>\n",
              "      <td>66.558250</td>\n",
              "      <td>67.349373</td>\n",
              "      <td>65.866749</td>\n",
              "      <td>66.775250</td>\n",
              "      <td>66.775250</td>\n",
              "      <td>2.786600e+07</td>\n",
              "    </tr>\n",
              "    <tr>\n",
              "      <th>75%</th>\n",
              "      <td>111.789999</td>\n",
              "      <td>113.564877</td>\n",
              "      <td>110.379377</td>\n",
              "      <td>112.029247</td>\n",
              "      <td>112.029247</td>\n",
              "      <td>3.542500e+07</td>\n",
              "    </tr>\n",
              "    <tr>\n",
              "      <th>max</th>\n",
              "      <td>151.863495</td>\n",
              "      <td>152.100006</td>\n",
              "      <td>149.887497</td>\n",
              "      <td>150.709000</td>\n",
              "      <td>150.709000</td>\n",
              "      <td>1.241400e+08</td>\n",
              "    </tr>\n",
              "  </tbody>\n",
              "</table>\n",
              "</div>"
            ],
            "text/plain": [
              "              Open         High          Low        Close    Adj Close  \\\n",
              "count  1258.000000  1258.000000  1258.000000  1258.000000  1258.000000   \n",
              "mean     81.688143    82.576140    80.849910    81.733603    81.733603   \n",
              "std      32.324641    32.652895    31.958103    32.296453    32.296453   \n",
              "min      45.255001    45.650002    45.169998    45.333000    45.333000   \n",
              "25%      56.017125    56.585575    55.414249    55.998998    55.998998   \n",
              "50%      66.558250    67.349373    65.866749    66.775250    66.775250   \n",
              "75%     111.789999   113.564877   110.379377   112.029247   112.029247   \n",
              "max     151.863495   152.100006   149.887497   150.709000   150.709000   \n",
              "\n",
              "             Volume  \n",
              "count  1.258000e+03  \n",
              "mean   3.110214e+07  \n",
              "std    1.353377e+07  \n",
              "min    6.936000e+06  \n",
              "25%    2.267900e+07  \n",
              "50%    2.786600e+07  \n",
              "75%    3.542500e+07  \n",
              "max    1.241400e+08  "
            ]
          },
          "execution_count": 4,
          "metadata": {},
          "output_type": "execute_result"
        }
      ],
      "source": [
        "g_stock.describe()"
      ]
    },
    {
      "cell_type": "code",
      "execution_count": 5,
      "id": "s5SGYm9eND8d",
      "metadata": {
        "colab": {
          "base_uri": "https://localhost:8080/"
        },
        "id": "s5SGYm9eND8d",
        "outputId": "65fb00b7-2410-415b-fdf0-a02ec6a8e837"
      },
      "outputs": [
        {
          "data": {
            "text/plain": [
              "0        46.584999\n",
              "1        46.790699\n",
              "2        46.299000\n",
              "3        45.963001\n",
              "4        45.889000\n",
              "           ...    \n",
              "1253    116.900002\n",
              "1254    117.120003\n",
              "1255    117.080002\n",
              "1256    119.419998\n",
              "1257    119.500000\n",
              "Name: High, Length: 1258, dtype: float64"
            ]
          },
          "execution_count": 5,
          "metadata": {},
          "output_type": "execute_result"
        }
      ],
      "source": [
        "g_stock.High"
      ]
    },
    {
      "cell_type": "markdown",
      "id": "recovered-jordan",
      "metadata": {
        "id": "recovered-jordan"
      },
      "source": [
        "### Numpy\n",
        "\n",
        "Для некоторых заданий, возможно, придется обратиться к документации: https://numpy.org\n",
        "\n",
        "* Создайте вектор (одномерный массив) размера 10, заполненный нулями\n",
        "* Создайте вектор размера 10, заполненный числом 5.8\n",
        "* Создйте массив 3x3x3 со случайными значениями\n",
        "* Создайте 8x8 матрицу и заполнить её в шахматном порядке\n",
        "* Cоздайте матрицу 4 на 4 и заполните ее произвольными числами (понадобиться в дальйнешем)"
      ]
    },
    {
      "cell_type": "code",
      "execution_count": 6,
      "id": "DZRMa-3BNw19",
      "metadata": {
        "colab": {
          "base_uri": "https://localhost:8080/"
        },
        "id": "DZRMa-3BNw19",
        "outputId": "6fd8c9e4-ca53-49ee-b0c3-c737f75c4d4f"
      },
      "outputs": [
        {
          "data": {
            "text/plain": [
              "array([0., 0., 0., 0., 0., 0., 0., 0., 0., 0.])"
            ]
          },
          "execution_count": 6,
          "metadata": {},
          "output_type": "execute_result"
        }
      ],
      "source": [
        "import numpy as np\n",
        "\n",
        "vect = np.zeros((10,))\n",
        "vect\n"
      ]
    },
    {
      "cell_type": "code",
      "execution_count": 7,
      "id": "9A0TsHigQPlV",
      "metadata": {
        "colab": {
          "base_uri": "https://localhost:8080/"
        },
        "id": "9A0TsHigQPlV",
        "outputId": "ae8f2bb2-0375-486a-e43c-6636f5a09d00"
      },
      "outputs": [
        {
          "data": {
            "text/plain": [
              "array([5.8, 5.8, 5.8, 5.8, 5.8, 5.8, 5.8, 5.8, 5.8, 5.8])"
            ]
          },
          "execution_count": 7,
          "metadata": {},
          "output_type": "execute_result"
        }
      ],
      "source": [
        "vect2 = np.array([5.8 for i in range(10)])\n",
        "vect2"
      ]
    },
    {
      "cell_type": "code",
      "execution_count": 8,
      "id": "KfufE3hDRnxP",
      "metadata": {
        "colab": {
          "base_uri": "https://localhost:8080/"
        },
        "id": "KfufE3hDRnxP",
        "outputId": "260a4a4c-c194-48e8-9848-052faac2a32b"
      },
      "outputs": [
        {
          "data": {
            "text/plain": [
              "array([[6.4e-323, 6.4e-323, 6.4e-323],\n",
              "       [6.4e-323, 6.4e-323, 6.4e-323],\n",
              "       [6.4e-323, 6.4e-323, 6.4e-323]])"
            ]
          },
          "execution_count": 8,
          "metadata": {},
          "output_type": "execute_result"
        }
      ],
      "source": [
        "m3_3 = np.empty((3,3))\n",
        "m3_3"
      ]
    },
    {
      "cell_type": "code",
      "execution_count": 9,
      "id": "nM8WPD6UVDNE",
      "metadata": {
        "colab": {
          "base_uri": "https://localhost:8080/"
        },
        "id": "nM8WPD6UVDNE",
        "outputId": "012b37aa-85f5-4f40-e0f4-718322612cee"
      },
      "outputs": [
        {
          "data": {
            "text/plain": [
              "array([[0., 1., 0., 1., 0., 1., 0., 1.],\n",
              "       [1., 0., 1., 0., 1., 0., 1., 0.],\n",
              "       [0., 1., 0., 1., 0., 1., 0., 1.],\n",
              "       [1., 0., 1., 0., 1., 0., 1., 0.],\n",
              "       [0., 1., 0., 1., 0., 1., 0., 1.],\n",
              "       [1., 0., 1., 0., 1., 0., 1., 0.],\n",
              "       [0., 1., 0., 1., 0., 1., 0., 1.],\n",
              "       [1., 0., 1., 0., 1., 0., 1., 0.]])"
            ]
          },
          "execution_count": 9,
          "metadata": {},
          "output_type": "execute_result"
        }
      ],
      "source": [
        "def fill_s(i, j):\n",
        "  return (i+j) % 2 \n",
        "\n",
        "m_s = np.fromfunction(fill_s, (8,8))\n",
        "m_s\n"
      ]
    },
    {
      "cell_type": "code",
      "execution_count": 10,
      "id": "IM7_pphJVqXI",
      "metadata": {
        "colab": {
          "base_uri": "https://localhost:8080/"
        },
        "id": "IM7_pphJVqXI",
        "outputId": "2606e894-d1fb-41a8-d7fa-98918875635b"
      },
      "outputs": [
        {
          "data": {
            "text/plain": [
              "array([[10,  8,  8,  4],\n",
              "       [ 7,  4,  5,  6],\n",
              "       [ 8,  5, 10,  6],\n",
              "       [ 1,  5,  6,  8]])"
            ]
          },
          "execution_count": 10,
          "metadata": {},
          "output_type": "execute_result"
        }
      ],
      "source": [
        "from random import randint\n",
        "m_r = np.array([[randint(1,10) for i in range(4)] for j in range(4)])\n",
        "m_r\n"
      ]
    },
    {
      "cell_type": "markdown",
      "id": "expired-hebrew",
      "metadata": {
        "id": "expired-hebrew"
      },
      "source": [
        "### Scipy\n",
        "\n",
        "\n",
        "* Возьмите интеграл $\\int_{-3}^{10} sin(x)* x^{2} \\,dx $\n",
        "* Найдите определитель, обратную матрицу и собственные значения к матрице из последнего пункта раздела Numpy\n"
      ]
    },
    {
      "cell_type": "code",
      "execution_count": 11,
      "id": "lmuph1qNWei6",
      "metadata": {
        "colab": {
          "base_uri": "https://localhost:8080/"
        },
        "id": "lmuph1qNWei6",
        "outputId": "503082ce-6bc0-40d1-f5c2-61a70bffcf27"
      },
      "outputs": [
        {
          "data": {
            "text/plain": [
              "(63.57192010714263, 2.177803784883395e-12)"
            ]
          },
          "execution_count": 11,
          "metadata": {},
          "output_type": "execute_result"
        }
      ],
      "source": [
        "import math\n",
        "from scipy import integrate, linalg\n",
        "f_my = lambda x: x * x * math.sin(x)\n",
        "\n",
        "integrate.quad(f_my, -3, 10)"
      ]
    },
    {
      "cell_type": "code",
      "execution_count": 12,
      "id": "VoKynK_nZ_5K",
      "metadata": {
        "colab": {
          "base_uri": "https://localhost:8080/"
        },
        "id": "VoKynK_nZ_5K",
        "outputId": "cd252528-bc8f-4970-c3d3-594336edc739"
      },
      "outputs": [
        {
          "data": {
            "text/plain": [
              "-1055.9999999999998"
            ]
          },
          "execution_count": 12,
          "metadata": {},
          "output_type": "execute_result"
        }
      ],
      "source": [
        "linalg.det(m_r)"
      ]
    },
    {
      "cell_type": "code",
      "execution_count": 13,
      "id": "Hny6NQU9XpVL",
      "metadata": {
        "colab": {
          "base_uri": "https://localhost:8080/"
        },
        "id": "Hny6NQU9XpVL",
        "outputId": "76f6f70b-1545-47da-c389-d9dd47340608"
      },
      "outputs": [
        {
          "data": {
            "text/plain": [
              "array([[-5.68181818e-03,  1.81818182e-01, -1.13636364e-02,\n",
              "        -1.25000000e-01],\n",
              "       [ 2.32954545e-01, -1.21212121e-01, -2.00757576e-01,\n",
              "         1.25000000e-01],\n",
              "       [-4.54545455e-02, -2.12121212e-01,  2.42424242e-01,\n",
              "        -5.60718699e-19],\n",
              "       [-1.10795455e-01,  2.12121212e-01, -5.49242424e-02,\n",
              "         6.25000000e-02]])"
            ]
          },
          "execution_count": 13,
          "metadata": {},
          "output_type": "execute_result"
        }
      ],
      "source": [
        "linalg.inv(m_r)"
      ]
    },
    {
      "cell_type": "code",
      "execution_count": 14,
      "id": "Rbb_vSsKaHxI",
      "metadata": {
        "colab": {
          "base_uri": "https://localhost:8080/"
        },
        "id": "Rbb_vSsKaHxI",
        "outputId": "2bb35a45-b4e2-4a66-f1cc-456da58abb28"
      },
      "outputs": [
        {
          "data": {
            "text/plain": [
              "(array([25.65799677+0.j, -2.50450867+0.j,  6.19303726+0.j,  2.65347464+0.j]),\n",
              " array([[ 0.60200739,  0.47216709,  0.54722213,  0.11057537],\n",
              "        [ 0.42513315, -0.74080865, -0.04441853,  0.46724087],\n",
              "        [ 0.57775232, -0.21143558,  0.19087248, -0.77460405],\n",
              "        [ 0.35078651,  0.42843409, -0.81372147,  0.41164016]]))"
            ]
          },
          "execution_count": 14,
          "metadata": {},
          "output_type": "execute_result"
        }
      ],
      "source": [
        "linalg.eig(m_r)"
      ]
    },
    {
      "cell_type": "markdown",
      "id": "alternate-classification",
      "metadata": {
        "id": "alternate-classification"
      },
      "source": [
        "### Matplotlib/Seaborn\n",
        "\n",
        "\n",
        "* Нарисуйте график sin(x), подпишите оси, добавьте сетку\n",
        "* Нарисуйте график sin(x) и cos(x) на одном subplot'е и на разных, задайте цвета, которые вам больше нравятся"
      ]
    },
    {
      "cell_type": "code",
      "execution_count": 16,
      "id": "facial-persian",
      "metadata": {
        "id": "facial-persian"
      },
      "outputs": [],
      "source": [
        "import matplotlib.pyplot as plt\n",
        "\n",
        "x = np.arange(0, 2*np.pi, 0.01)\n",
        "sin_x = np.sin(x)\n",
        "cos_x = np.cos(x)\n"
      ]
    },
    {
      "cell_type": "code",
      "execution_count": 17,
      "id": "AiJ3jZtFcUEz",
      "metadata": {
        "colab": {
          "base_uri": "https://localhost:8080/",
          "height": 295
        },
        "id": "AiJ3jZtFcUEz",
        "outputId": "f630bd2d-df6f-450a-c273-171ceeb8b6f2"
      },
      "outputs": [
        {
          "data": {
            "image/png": "[encoded data removed]",
            "text/plain": [
              "<Figure size 640x480 with 1 Axes>"
            ]
          },
          "metadata": {},
          "output_type": "display_data"
        }
      ],
      "source": [
        "fig = plt.figure()\n",
        "plt.plot(x, sin_x)\n",
        "plt.grid()\n",
        "plt.title('График sin(x)')\n",
        "plt.ylabel('sin(x)')\n",
        "plt.xlabel('X');\n",
        "plt.show()"
      ]
    },
    {
      "cell_type": "code",
      "execution_count": 18,
      "id": "mWSrjuTqc2kK",
      "metadata": {
        "colab": {
          "base_uri": "https://localhost:8080/",
          "height": 295
        },
        "id": "mWSrjuTqc2kK",
        "outputId": "6ca07920-2350-4eb9-f3ad-7831043e3981"
      },
      "outputs": [
        {
          "data": {
            "image/png": "[encoded data removed]",
            "text/plain": [
              "<Figure size 640x480 with 1 Axes>"
            ]
          },
          "metadata": {},
          "output_type": "display_data"
        }
      ],
      "source": [
        "fig = plt.figure()\n",
        "plt.plot(x, sin_x)\n",
        "plt.plot(x, cos_x, color = 'red')\n",
        "plt.grid()\n",
        "plt.title('График sin(x)')\n",
        "plt.ylabel('sin(x)')\n",
        "plt.xlabel('X');\n",
        "plt.show()"
      ]
    },
    {
      "cell_type": "code",
      "execution_count": 19,
      "id": "iXEgBcSycxpH",
      "metadata": {
        "colab": {
          "base_uri": "https://localhost:8080/",
          "height": 295
        },
        "id": "iXEgBcSycxpH",
        "outputId": "dd78d8da-1943-42ef-bb82-6fc3f15f273c"
      },
      "outputs": [
        {
          "data": {
            "image/png": "[encoded data removed]",
            "text/plain": [
              "<Figure size 640x480 with 2 Axes>"
            ]
          },
          "metadata": {},
          "output_type": "display_data"
        }
      ],
      "source": [
        "fig = plt.figure()\n",
        "plt.subplot(1,2,1)\n",
        "plt.plot(x, sin_x)\n",
        "plt.grid()\n",
        "plt.title('График sin(x)')\n",
        "plt.ylabel('sin(x)')\n",
        "plt.xlabel('X');\n",
        "\n",
        "plt.subplot(1,2,2)\n",
        "plt.plot(x, cos_x)\n",
        "plt.grid()\n",
        "plt.title('График cos(x)')\n",
        "plt.ylabel('cos(x)')\n",
        "plt.xlabel('X');\n",
        "plt.show()"
      ]
    }
  ],
  "metadata": {
    "colab": {
      "provenance": []
    },
    "kernelspec": {
      "display_name": "Python 3.10.4 64-bit",
      "language": "python",
      "name": "python3"
    },
    "language_info": {
      "codemirror_mode": {
        "name": "ipython",
        "version": 3
      },
      "file_extension": ".py",
      "mimetype": "text/x-python",
      "name": "python",
      "nbconvert_exporter": "python",
      "pygments_lexer": "ipython3",
      "version": "3.10.4"
    },
    "vscode": {
      "interpreter": {
        "hash": "aee8b7b246df8f9039afb4144a1f6fd8d2ca17a180786b69acc140d282b71a49"
      }
    }
  },
  "nbformat": 4,
  "nbformat_minor": 5
}
