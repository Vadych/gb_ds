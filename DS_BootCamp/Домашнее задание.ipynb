{
 "cells": [
  {
   "cell_type": "markdown",
   "id": "interested-johns",
   "metadata": {},
   "source": [
    "## Matplotlib/Seaborn/Plotly\n",
    "\n",
    "* Скачайте любой табличный датасет (можете использовать тот же, что и в предыдущих занятиях), например, с https://www.kaggle.com/datasets\n",
    "* Постройте на основе вашего датасета различные типы графиков: гистограммы, ящик с усами, тепловая карта, диаграммы рассеяния, barplot\n",
    "* Не ограничивайтесь только вышеописанными типами графиков, посмотрите, что еще предлагают библиотеки: круговые диаграммы, скрипичные диаграммы и др. \n",
    "* Меняйте цветовфе схемы и обязательно добавляйте подпсии осей и графиков, чтобы всем было понятно, что изображено!\n",
    "* Мы можете использовать одну библиотеку, если хотите поглубже разобраться с ней, или попробовать разные и определиться, что вам удобнее."
   ]
  },
  {
   "cell_type": "markdown",
   "id": "mathematical-beaver",
   "metadata": {},
   "source": [
    "### Удачи!"
   ]
  },
  {
   "cell_type": "code",
   "execution_count": null,
   "id": "9602dc23",
   "metadata": {},
   "outputs": [],
   "source": [
    "from sklearn import linear_model\n"
   ]
  }
 ],
 "metadata": {
  "kernelspec": {
   "display_name": "Python 3.9.12 ('base')",
   "language": "python",
   "name": "python3"
  },
  "language_info": {
   "codemirror_mode": {
    "name": "ipython",
    "version": 3
   },
   "file_extension": ".py",
   "mimetype": "text/x-python",
   "name": "python",
   "nbconvert_exporter": "python",
   "pygments_lexer": "ipython3",
   "version": "3.9.12"
  },
  "vscode": {
   "interpreter": {
    "hash": "3fac50eb9b851c105fee14717bb99f4c7b6876d5ea31a486c3de1f9107615acf"
   }
  }
 },
 "nbformat": 4,
 "nbformat_minor": 5
}
